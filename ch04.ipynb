{
 "cells": [
  {
   "cell_type": "markdown",
   "metadata": {},
   "source": [
    "# ニューラルネットワークの学習"
   ]
  },
  {
   "cell_type": "markdown",
   "metadata": {},
   "source": [
    "### 損失関数"
   ]
  },
  {
   "cell_type": "markdown",
   "metadata": {},
   "source": [
    "* 2乗和誤差"
   ]
  },
  {
   "cell_type": "code",
   "execution_count": 1,
   "metadata": {
    "collapsed": true
   },
   "outputs": [],
   "source": [
    "import numpy as np\n",
    "import matplotlib.pylab as plt\n",
    "%matplotlib inline"
   ]
  },
  {
   "cell_type": "code",
   "execution_count": 2,
   "metadata": {
    "collapsed": true
   },
   "outputs": [],
   "source": [
    "def mean_squared_error(y, t):\n",
    "    return 0.5 * np.sum((y - t) ** 2)"
   ]
  },
  {
   "cell_type": "code",
   "execution_count": 3,
   "metadata": {
    "collapsed": true
   },
   "outputs": [],
   "source": [
    "t = [0, 0, 1, 0, 0, 0, 0, 0, 0, 0]"
   ]
  },
  {
   "cell_type": "code",
   "execution_count": 4,
   "metadata": {},
   "outputs": [
    {
     "data": {
      "text/plain": [
       "0.097500000000000031"
      ]
     },
     "execution_count": 4,
     "metadata": {},
     "output_type": "execute_result"
    }
   ],
   "source": [
    "y = [0.1, 0.05, 0.6, 0.0, 0.05, 0.1, 0.0, 0.1, 0.0, 0.0]\n",
    "mean_squared_error(np.array(y), np.array(t))"
   ]
  },
  {
   "cell_type": "code",
   "execution_count": 5,
   "metadata": {},
   "outputs": [
    {
     "data": {
      "text/plain": [
       "0.59750000000000003"
      ]
     },
     "execution_count": 5,
     "metadata": {},
     "output_type": "execute_result"
    }
   ],
   "source": [
    "y = [0.1, 0.05, 0.1, 0.0, 0.05, 0.1, 0.0, 0.6, 0.0, 0.0]\n",
    "mean_squared_error(np.array(y), np.array(t))"
   ]
  },
  {
   "cell_type": "markdown",
   "metadata": {},
   "source": [
    "* 交差エントロピー誤差"
   ]
  },
  {
   "cell_type": "code",
   "execution_count": 6,
   "metadata": {
    "collapsed": true
   },
   "outputs": [],
   "source": [
    "def cross_entropy_error(y, t):\n",
    "    delta = 1e-7\n",
    "    return -np.sum(t * np.log(y + delta))"
   ]
  },
  {
   "cell_type": "code",
   "execution_count": 7,
   "metadata": {
    "collapsed": true
   },
   "outputs": [],
   "source": [
    "t = [0, 0, 1, 0, 0, 0, 0, 0, 0, 0]"
   ]
  },
  {
   "cell_type": "code",
   "execution_count": 8,
   "metadata": {},
   "outputs": [
    {
     "data": {
      "text/plain": [
       "0.51082545709933802"
      ]
     },
     "execution_count": 8,
     "metadata": {},
     "output_type": "execute_result"
    }
   ],
   "source": [
    "y = [0.1, 0.05, 0.6, 0.0, 0.05, 0.1, 0.0, 0.1, 0.0, 0.0]\n",
    "cross_entropy_error(np.array(y), np.array(t))"
   ]
  },
  {
   "cell_type": "code",
   "execution_count": 9,
   "metadata": {},
   "outputs": [
    {
     "data": {
      "text/plain": [
       "2.3025840929945458"
      ]
     },
     "execution_count": 9,
     "metadata": {},
     "output_type": "execute_result"
    }
   ],
   "source": [
    "y = [0.1, 0.05, 0.1, 0.0, 0.05, 0.1, 0.0, 0.6, 0.0, 0.0]\n",
    "cross_entropy_error(np.array(y), np.array(t))"
   ]
  },
  {
   "cell_type": "markdown",
   "metadata": {},
   "source": [
    "* ミニバッチ学習"
   ]
  },
  {
   "cell_type": "code",
   "execution_count": 10,
   "metadata": {
    "collapsed": true
   },
   "outputs": [],
   "source": [
    "#import sys, os\n",
    "#sys.path.append(os.pardir)\n",
    "from dataset.mnist import load_mnist"
   ]
  },
  {
   "cell_type": "code",
   "execution_count": 11,
   "metadata": {
    "collapsed": true
   },
   "outputs": [],
   "source": [
    "(x_train, t_train), (x_test, t_test) = load_mnist(normalize=True, one_hot_label=True)"
   ]
  },
  {
   "cell_type": "code",
   "execution_count": 12,
   "metadata": {},
   "outputs": [
    {
     "data": {
      "text/plain": [
       "(60000, 784)"
      ]
     },
     "execution_count": 12,
     "metadata": {},
     "output_type": "execute_result"
    }
   ],
   "source": [
    "x_train.shape"
   ]
  },
  {
   "cell_type": "code",
   "execution_count": 13,
   "metadata": {},
   "outputs": [
    {
     "data": {
      "text/plain": [
       "(60000, 10)"
      ]
     },
     "execution_count": 13,
     "metadata": {},
     "output_type": "execute_result"
    }
   ],
   "source": [
    "t_train.shape"
   ]
  },
  {
   "cell_type": "code",
   "execution_count": 14,
   "metadata": {
    "collapsed": true
   },
   "outputs": [],
   "source": [
    "train_size = x_train.shape[0]\n",
    "batch_size = 10\n",
    "batch_mask = np.random.choice(train_size, batch_size)"
   ]
  },
  {
   "cell_type": "code",
   "execution_count": 15,
   "metadata": {
    "collapsed": true
   },
   "outputs": [],
   "source": [
    "x_batch = x_train[batch_mask]\n",
    "t_batch = t_train[batch_mask]"
   ]
  },
  {
   "cell_type": "code",
   "execution_count": 16,
   "metadata": {},
   "outputs": [
    {
     "data": {
      "text/plain": [
       "array([20199, 22854,  8402,  4132,  4255, 57506, 51305, 20128, 36543, 32127])"
      ]
     },
     "execution_count": 16,
     "metadata": {},
     "output_type": "execute_result"
    }
   ],
   "source": [
    "# 解説\n",
    "np.random.choice(60000, 10)"
   ]
  },
  {
   "cell_type": "code",
   "execution_count": 17,
   "metadata": {
    "collapsed": true
   },
   "outputs": [],
   "source": [
    "###"
   ]
  },
  {
   "cell_type": "markdown",
   "metadata": {},
   "source": [
    "* [バッチ対応版] 交差エントロピー誤差の実装"
   ]
  },
  {
   "cell_type": "code",
   "execution_count": 18,
   "metadata": {
    "collapsed": true
   },
   "outputs": [],
   "source": [
    "def cross_entropy_error(y, t):\n",
    "    if y.ndim == 1:\n",
    "        t = t.reshape(1, t.size)\n",
    "        y = y.reshape(1, y.size)\n",
    "\n",
    "    batch_size = y.shape[0]\n",
    "    return -np.sum(t * np.log(y+1e-7)) / batch_size"
   ]
  },
  {
   "cell_type": "code",
   "execution_count": 19,
   "metadata": {},
   "outputs": [
    {
     "data": {
      "text/plain": [
       "2.3025840929945458"
      ]
     },
     "execution_count": 19,
     "metadata": {},
     "output_type": "execute_result"
    }
   ],
   "source": [
    "cross_entropy_error(np.array(y), np.array(t))"
   ]
  },
  {
   "cell_type": "code",
   "execution_count": 20,
   "metadata": {
    "collapsed": true
   },
   "outputs": [],
   "source": [
    "def cross_entropy_error(y, t):\n",
    "    if y.ndim == 1:\n",
    "        t = t.reshape(1, t.size)\n",
    "        y = y.reshape(1, y.size)\n",
    "\n",
    "    batch_size = y.shape[0]\n",
    "    return -np.sum(np.log(y[np.arange(batch_size), t])) / batch_size"
   ]
  },
  {
   "cell_type": "code",
   "execution_count": 21,
   "metadata": {},
   "outputs": [
    {
     "data": {
      "text/plain": [
       "2.3025850929940455"
      ]
     },
     "execution_count": 21,
     "metadata": {},
     "output_type": "execute_result"
    }
   ],
   "source": [
    "cross_entropy_error(np.array(y), np.array(2))"
   ]
  },
  {
   "cell_type": "markdown",
   "metadata": {},
   "source": [
    "### 数値微分"
   ]
  },
  {
   "cell_type": "markdown",
   "metadata": {},
   "source": [
    "* 微分"
   ]
  },
  {
   "cell_type": "code",
   "execution_count": 22,
   "metadata": {
    "collapsed": true
   },
   "outputs": [],
   "source": [
    "# 悪い実装例\n",
    "def numerical_diff(f, x):\n",
    "    h = 10e-50\n",
    "    return (f(x + h) - f(x)) / h"
   ]
  },
  {
   "cell_type": "code",
   "execution_count": 23,
   "metadata": {},
   "outputs": [
    {
     "data": {
      "text/plain": [
       "0.0"
      ]
     },
     "execution_count": 23,
     "metadata": {},
     "output_type": "execute_result"
    }
   ],
   "source": [
    "np.float32(1e-50)"
   ]
  },
  {
   "cell_type": "code",
   "execution_count": 24,
   "metadata": {
    "collapsed": true
   },
   "outputs": [],
   "source": [
    "def numerical_diff(f, x):\n",
    "    h = 1e-4 # 0.0001 \n",
    "    return (f(x + h) - f(x - h)) / (2 * h)"
   ]
  },
  {
   "cell_type": "markdown",
   "metadata": {
    "collapsed": true
   },
   "source": [
    "* 数値微分の例"
   ]
  },
  {
   "cell_type": "code",
   "execution_count": 25,
   "metadata": {
    "collapsed": true
   },
   "outputs": [],
   "source": [
    "def function_1(x):\n",
    "    return 0.01 * x ** 2 + 0.1 * x"
   ]
  },
  {
   "cell_type": "code",
   "execution_count": 26,
   "metadata": {
    "collapsed": true
   },
   "outputs": [],
   "source": [
    "x = np.arange(0.0, 20.0, 0.1)\n",
    "y = function_1(x)"
   ]
  },
  {
   "cell_type": "code",
   "execution_count": 27,
   "metadata": {},
   "outputs": [
    {
     "data": {
      "image/png": "[encoded data removed]",
      "text/plain": [
       "<matplotlib.figure.Figure at 0x1d30963ff28>"
      ]
     },
     "metadata": {},
     "output_type": "display_data"
    }
   ],
   "source": [
    "plt.plot(x, y)\n",
    "plt.xlabel(\"x\")\n",
    "plt.ylabel(\"f(x)\")\n",
    "plt.show()"
   ]
  },
  {
   "cell_type": "code",
   "execution_count": 28,
   "metadata": {},
   "outputs": [
    {
     "data": {
      "text/plain": [
       "0.1999999999990898"
      ]
     },
     "execution_count": 28,
     "metadata": {},
     "output_type": "execute_result"
    }
   ],
   "source": [
    "numerical_diff(function_1, 5)"
   ]
  },
  {
   "cell_type": "code",
   "execution_count": 29,
   "metadata": {},
   "outputs": [
    {
     "data": {
      "text/plain": [
       "0.2999999999986347"
      ]
     },
     "execution_count": 29,
     "metadata": {},
     "output_type": "execute_result"
    }
   ],
   "source": [
    "numerical_diff(function_1, 10)"
   ]
  },
  {
   "cell_type": "code",
   "execution_count": 30,
   "metadata": {},
   "outputs": [
    {
     "name": "stdout",
     "output_type": "stream",
     "text": [
      "0.1999999999990898\n"
     ]
    },
    {
     "data": {
      "image/png": "[encoded data removed]",
      "text/plain": [
       "<matplotlib.figure.Figure at 0x1d30963f7f0>"
      ]
     },
     "metadata": {},
     "output_type": "display_data"
    }
   ],
   "source": [
    "# %load sample/ch04/gradient_1d.py\n",
    "import numpy as np\n",
    "import matplotlib.pylab as plt\n",
    "\n",
    "\n",
    "def numerical_diff(f, x):\n",
    "    h = 1e-4 # 0.0001\n",
    "    return (f(x+h) - f(x-h)) / (2*h)\n",
    "\n",
    "\n",
    "def function_1(x):\n",
    "    return 0.01*x**2 + 0.1*x \n",
    "\n",
    "\n",
    "def tangent_line(f, x):\n",
    "    d = numerical_diff(f, x)\n",
    "    print(d)\n",
    "    y = f(x) - d*x\n",
    "    return lambda t: d*t + y\n",
    "     \n",
    "x = np.arange(0.0, 20.0, 0.1)\n",
    "y = function_1(x)\n",
    "plt.xlabel(\"x\")\n",
    "plt.ylabel(\"f(x)\")\n",
    "\n",
    "tf = tangent_line(function_1, 5)\n",
    "y2 = tf(x)\n",
    "\n",
    "plt.plot(x, y)\n",
    "plt.plot(x, y2)\n",
    "plt.show()\n"
   ]
  },
  {
   "cell_type": "code",
   "execution_count": 31,
   "metadata": {},
   "outputs": [
    {
     "name": "stdout",
     "output_type": "stream",
     "text": [
      "0.2999999999986347\n"
     ]
    },
    {
     "data": {
      "image/png": "[encoded data removed]",
      "text/plain": [
       "<matplotlib.figure.Figure at 0x1d30a1946d8>"
      ]
     },
     "metadata": {},
     "output_type": "display_data"
    }
   ],
   "source": [
    "# %load sample/ch04/gradient_1d.py\n",
    "import numpy as np\n",
    "import matplotlib.pylab as plt\n",
    "\n",
    "\n",
    "def numerical_diff(f, x):\n",
    "    h = 1e-4 # 0.0001\n",
    "    return (f(x+h) - f(x-h)) / (2*h)\n",
    "\n",
    "\n",
    "def function_1(x):\n",
    "    return 0.01*x**2 + 0.1*x \n",
    "\n",
    "\n",
    "def tangent_line(f, x):\n",
    "    d = numerical_diff(f, x)\n",
    "    print(d)\n",
    "    y = f(x) - d*x\n",
    "    return lambda t: d*t + y\n",
    "     \n",
    "x = np.arange(0.0, 20.0, 0.1)\n",
    "y = function_1(x)\n",
    "plt.xlabel(\"x\")\n",
    "plt.ylabel(\"f(x)\")\n",
    "\n",
    "tf = tangent_line(function_1, 10)\n",
    "y2 = tf(x)\n",
    "\n",
    "plt.plot(x, y)\n",
    "plt.plot(x, y2)\n",
    "plt.show()\n"
   ]
  },
  {
   "cell_type": "markdown",
   "metadata": {},
   "source": [
    "* 偏微分"
   ]
  },
  {
   "cell_type": "code",
   "execution_count": 32,
   "metadata": {
    "collapsed": true
   },
   "outputs": [],
   "source": [
    "def function_2(x):\n",
    "    return np.sum(x ** 2)"
   ]
  },
  {
   "cell_type": "code",
   "execution_count": 33,
   "metadata": {},
   "outputs": [],
   "source": [
    "def function_tmp1(x0):\n",
    "    return x0 ** 2 + 4.0 ** 2.0"
   ]
  },
  {
   "cell_type": "code",
   "execution_count": 34,
   "metadata": {},
   "outputs": [
    {
     "data": {
      "text/plain": [
       "6.00000000000378"
      ]
     },
     "execution_count": 34,
     "metadata": {},
     "output_type": "execute_result"
    }
   ],
   "source": [
    "numerical_diff(function_tmp1, 3.0)"
   ]
  },
  {
   "cell_type": "code",
   "execution_count": 35,
   "metadata": {
    "collapsed": true
   },
   "outputs": [],
   "source": [
    "def function_tmp2(x1):\n",
    "    return 3.0 ** 2 + x1 ** 2.0"
   ]
  },
  {
   "cell_type": "code",
   "execution_count": 36,
   "metadata": {},
   "outputs": [
    {
     "data": {
      "text/plain": [
       "7.999999999999119"
      ]
     },
     "execution_count": 36,
     "metadata": {},
     "output_type": "execute_result"
    }
   ],
   "source": [
    "numerical_diff(function_tmp2, 4.0)"
   ]
  },
  {
   "cell_type": "markdown",
   "metadata": {},
   "source": [
    "### 勾配"
   ]
  },
  {
   "cell_type": "code",
   "execution_count": 37,
   "metadata": {},
   "outputs": [],
   "source": [
    "def numerical_gradient(f, x):\n",
    "    h = 1e-4\n",
    "    grad = np.zeros_like(x)\n",
    "\n",
    "    for idx in range(x.size):\n",
    "        tmp_val = x[idx]\n",
    "        x[idx] = tmp_val + h\n",
    "        fxh1 = f(x)\n",
    "\n",
    "        x[idx] = tmp_val - h\n",
    "        fxh2 = f(x)\n",
    "\n",
    "        grad[idx] = (fxh1 - fxh2) / (2 * h)\n",
    "        x[idx] = tmp_val\n",
    "\n",
    "    return grad        "
   ]
  },
  {
   "cell_type": "code",
   "execution_count": 38,
   "metadata": {},
   "outputs": [
    {
     "data": {
      "text/plain": [
       "array([ 6.,  8.])"
      ]
     },
     "execution_count": 38,
     "metadata": {},
     "output_type": "execute_result"
    }
   ],
   "source": [
    "numerical_gradient(function_2, np.array([3.0, 4.0]))"
   ]
  },
  {
   "cell_type": "code",
   "execution_count": 39,
   "metadata": {},
   "outputs": [
    {
     "data": {
      "text/plain": [
       "array([ 0.,  8.])"
      ]
     },
     "execution_count": 39,
     "metadata": {},
     "output_type": "execute_result"
    }
   ],
   "source": [
    "numerical_gradient(function_2, np.array([0.0, 4.0]))"
   ]
  },
  {
   "cell_type": "code",
   "execution_count": 40,
   "metadata": {},
   "outputs": [
    {
     "data": {
      "text/plain": [
       "array([ 6.,  0.])"
      ]
     },
     "execution_count": 40,
     "metadata": {},
     "output_type": "execute_result"
    }
   ],
   "source": [
    "numerical_gradient(function_2, np.array([3.0, 0.0]))"
   ]
  },
  {
   "cell_type": "code",
   "execution_count": 41,
   "metadata": {},
   "outputs": [
    {
     "data": {
      "image/png": "[encoded data removed]",
      "text/plain": [
       "<matplotlib.figure.Figure at 0x1d30a2920f0>"
      ]
     },
     "metadata": {},
     "output_type": "display_data"
    }
   ],
   "source": [
    "# %load sample/ch04/gradient_2d.py\n",
    "# cf.http://d.hatena.ne.jp/white_wheels/20100327/p3\n",
    "import numpy as np\n",
    "import matplotlib.pylab as plt\n",
    "from mpl_toolkits.mplot3d import Axes3D\n",
    "\n",
    "\n",
    "def _numerical_gradient_no_batch(f, x):\n",
    "    h = 1e-4 # 0.0001\n",
    "    grad = np.zeros_like(x)\n",
    "    \n",
    "    for idx in range(x.size):\n",
    "        tmp_val = x[idx]\n",
    "        x[idx] = float(tmp_val) + h\n",
    "        fxh1 = f(x) # f(x+h)\n",
    "        \n",
    "        x[idx] = tmp_val - h \n",
    "        fxh2 = f(x) # f(x-h)\n",
    "        grad[idx] = (fxh1 - fxh2) / (2*h)\n",
    "        \n",
    "        x[idx] = tmp_val # 値を元に戻す\n",
    "        \n",
    "    return grad\n",
    "\n",
    "\n",
    "def numerical_gradient(f, X):\n",
    "    if X.ndim == 1:\n",
    "        return _numerical_gradient_no_batch(f, X)\n",
    "    else:\n",
    "        grad = np.zeros_like(X)\n",
    "        \n",
    "        for idx, x in enumerate(X):\n",
    "            grad[idx] = _numerical_gradient_no_batch(f, x)\n",
    "        \n",
    "        return grad\n",
    "\n",
    "\n",
    "def function_2(x):\n",
    "    if x.ndim == 1:\n",
    "        return np.sum(x**2)\n",
    "    else:\n",
    "        return np.sum(x**2, axis=1)\n",
    "\n",
    "\n",
    "def tangent_line(f, x):\n",
    "    d = numerical_gradient(f, x)\n",
    "    print(d)\n",
    "    y = f(x) - d*x\n",
    "    return lambda t: d*t + y\n",
    "     \n",
    "if __name__ == '__main__':\n",
    "    x0 = np.arange(-2, 2.5, 0.25)\n",
    "    x1 = np.arange(-2, 2.5, 0.25)\n",
    "    X, Y = np.meshgrid(x0, x1)\n",
    "    \n",
    "    X = X.flatten()\n",
    "    Y = Y.flatten()\n",
    "    \n",
    "    grad = numerical_gradient(function_2, np.array([X, Y]) )\n",
    "    \n",
    "    plt.figure()\n",
    "    plt.quiver(X, Y, -grad[0], -grad[1],  angles=\"xy\",color=\"#666666\")#,headwidth=10,scale=40,color=\"#444444\")\n",
    "    plt.xlim([-2, 2])\n",
    "    plt.ylim([-2, 2])\n",
    "    plt.xlabel('x0')\n",
    "    plt.ylabel('x1')\n",
    "    plt.grid()\n",
    "    plt.legend()\n",
    "    plt.draw()\n",
    "    plt.show()"
   ]
  },
  {
   "cell_type": "markdown",
   "metadata": {},
   "source": [
    "* 勾配法"
   ]
  },
  {
   "cell_type": "code",
   "execution_count": 42,
   "metadata": {
    "collapsed": true
   },
   "outputs": [],
   "source": [
    "def gradient_descent(f, init_x, lr=0.01, step_num=100):\n",
    "    x = init_x\n",
    "\n",
    "    for i in range(step_num):\n",
    "        grad = numerical_gradient(f, x)\n",
    "        x -= lr * grad\n",
    "\n",
    "    return x"
   ]
  },
  {
   "cell_type": "code",
   "execution_count": 43,
   "metadata": {},
   "outputs": [
    {
     "data": {
      "text/plain": [
       "array([ -6.11110793e-10,   8.14814391e-10])"
      ]
     },
     "execution_count": 43,
     "metadata": {},
     "output_type": "execute_result"
    }
   ],
   "source": [
    "init_x = np.array([-3.0, 4.0])\n",
    "gradient_descent(function_2, init_x=init_x, lr=0.1, step_num=100)"
   ]
  },
  {
   "cell_type": "code",
   "execution_count": 44,
   "metadata": {},
   "outputs": [
    {
     "data": {
      "text/plain": [
       "array([ -2.58983747e+13,  -1.29524862e+12])"
      ]
     },
     "execution_count": 44,
     "metadata": {},
     "output_type": "execute_result"
    }
   ],
   "source": [
    "# 学習率が大きすぎる\n",
    "init_x = np.array([-3.0, 4.0])\n",
    "gradient_descent(function_2, init_x=init_x, lr=10.0, step_num=100)"
   ]
  },
  {
   "cell_type": "code",
   "execution_count": 45,
   "metadata": {},
   "outputs": [
    {
     "data": {
      "text/plain": [
       "array([-2.99999994,  3.99999992])"
      ]
     },
     "execution_count": 45,
     "metadata": {},
     "output_type": "execute_result"
    }
   ],
   "source": [
    "# 学習率が小さすぎる\n",
    "init_x = np.array([-3.0, 4.0])\n",
    "gradient_descent(function_2, init_x=init_x, lr=1e-10, step_num=100)"
   ]
  },
  {
   "cell_type": "code",
   "execution_count": 46,
   "metadata": {},
   "outputs": [
    {
     "data": {
      "image/png": "[encoded data removed]",
      "text/plain": [
       "<matplotlib.figure.Figure at 0x1d30a187320>"
      ]
     },
     "metadata": {},
     "output_type": "display_data"
    }
   ],
   "source": [
    "# %load sample/ch04/gradient_method.py\n",
    "import numpy as np\n",
    "import matplotlib.pylab as plt\n",
    "#from gradient_2d import numerical_gradient\n",
    "from sample.ch04.gradient_2d import numerical_gradient\n",
    "\n",
    "\n",
    "def gradient_descent(f, init_x, lr=0.01, step_num=100):\n",
    "    x = init_x\n",
    "    x_history = []\n",
    "\n",
    "    for i in range(step_num):\n",
    "        x_history.append( x.copy() )\n",
    "\n",
    "        grad = numerical_gradient(f, x)\n",
    "        x -= lr * grad\n",
    "\n",
    "    return x, np.array(x_history)\n",
    "\n",
    "\n",
    "def function_2(x):\n",
    "    return x[0]**2 + x[1]**2\n",
    "\n",
    "init_x = np.array([-3.0, 4.0])    \n",
    "\n",
    "lr = 0.1\n",
    "step_num = 20\n",
    "x, x_history = gradient_descent(function_2, init_x, lr=lr, step_num=step_num)\n",
    "\n",
    "plt.plot( [-5, 5], [0,0], '--b')\n",
    "plt.plot( [0,0], [-5, 5], '--b')\n",
    "plt.plot(x_history[:,0], x_history[:,1], 'o')\n",
    "\n",
    "plt.xlim(-3.5, 3.5)\n",
    "plt.ylim(-4.5, 4.5)\n",
    "plt.xlabel(\"X0\")\n",
    "plt.ylabel(\"X1\")\n",
    "plt.show()\n"
   ]
  },
  {
   "cell_type": "markdown",
   "metadata": {},
   "source": [
    "* ニューラルネットワークに対する勾配"
   ]
  },
  {
   "cell_type": "code",
   "execution_count": 47,
   "metadata": {},
   "outputs": [],
   "source": [
    "# %load sample/ch04/gradient_simplenet.py\n",
    "#import sys, os\n",
    "#sys.path.append(os.pardir)  # 親ディレクトリのファイルをインポートするための設定\n",
    "import numpy as np\n",
    "from common.functions import softmax, cross_entropy_error\n",
    "from common.gradient import numerical_gradient\n",
    "\n",
    "\n",
    "class simpleNet:\n",
    "    def __init__(self):\n",
    "        self.W = np.random.randn(2,3)\n",
    "\n",
    "    def predict(self, x):\n",
    "        return np.dot(x, self.W)\n",
    "\n",
    "    def loss(self, x, t):\n",
    "        z = self.predict(x)\n",
    "        y = softmax(z)\n",
    "        loss = cross_entropy_error(y, t)\n",
    "\n",
    "        return loss\n",
    "    \n",
    "    \"\"\"\n",
    "x = np.array([0.6, 0.9])\n",
    "t = np.array([0, 0, 1])\n",
    "\n",
    "net = simpleNet()\n",
    "\n",
    "f = lambda w: net.loss(x, t)\n",
    "dW = numerical_gradient(f, net.W)\n",
    "\n",
    "print(dW)\n",
    "    \"\"\""
   ]
  },
  {
   "cell_type": "code",
   "execution_count": 48,
   "metadata": {},
   "outputs": [
    {
     "data": {
      "text/plain": [
       "array([[-1.31012996, -2.00187727, -0.69730943],\n",
       "       [ 2.25623747, -0.15983877,  0.97081485]])"
      ]
     },
     "execution_count": 48,
     "metadata": {},
     "output_type": "execute_result"
    }
   ],
   "source": [
    "net = simpleNet()\n",
    "net.W"
   ]
  },
  {
   "cell_type": "code",
   "execution_count": 49,
   "metadata": {},
   "outputs": [
    {
     "data": {
      "text/plain": [
       "array([ 1.24453575, -1.34498126,  0.45534771])"
      ]
     },
     "execution_count": 49,
     "metadata": {},
     "output_type": "execute_result"
    }
   ],
   "source": [
    "x = np.array([0.6, 0.9])\n",
    "p = net.predict(x)\n",
    "p"
   ]
  },
  {
   "cell_type": "code",
   "execution_count": 50,
   "metadata": {},
   "outputs": [
    {
     "data": {
      "text/plain": [
       "0"
      ]
     },
     "execution_count": 50,
     "metadata": {},
     "output_type": "execute_result"
    }
   ],
   "source": [
    "np.argmax(p)"
   ]
  },
  {
   "cell_type": "code",
   "execution_count": 51,
   "metadata": {},
   "outputs": [
    {
     "data": {
      "text/plain": [
       "1.2139783598034035"
      ]
     },
     "execution_count": 51,
     "metadata": {},
     "output_type": "execute_result"
    }
   ],
   "source": [
    "t = np.array([0, 0, 1])\n",
    "net.loss(x, t)"
   ]
  },
  {
   "cell_type": "code",
   "execution_count": 52,
   "metadata": {
    "collapsed": true
   },
   "outputs": [],
   "source": [
    "def f(W):\n",
    "    return net.loss(x, t)"
   ]
  },
  {
   "cell_type": "code",
   "execution_count": 53,
   "metadata": {},
   "outputs": [
    {
     "data": {
      "text/plain": [
       "array([[ 0.39234413,  0.02944789, -0.42179202],\n",
       "       [ 0.58851619,  0.04417184, -0.63268803]])"
      ]
     },
     "execution_count": 53,
     "metadata": {},
     "output_type": "execute_result"
    }
   ],
   "source": [
    "dW = numerical_gradient(f, net.W)\n",
    "dW"
   ]
  },
  {
   "cell_type": "code",
   "execution_count": 54,
   "metadata": {},
   "outputs": [
    {
     "data": {
      "text/plain": [
       "array([[ 0.39234413,  0.02944789, -0.42179202],\n",
       "       [ 0.58851619,  0.04417184, -0.63268803]])"
      ]
     },
     "execution_count": 54,
     "metadata": {},
     "output_type": "execute_result"
    }
   ],
   "source": [
    "# lambdaによる記述\n",
    "f = lambda W: net.loss(x, t)\n",
    "dW = numerical_gradient(f, net.W)\n",
    "dW"
   ]
  },
  {
   "cell_type": "code",
   "execution_count": 55,
   "metadata": {
    "collapsed": true
   },
   "outputs": [],
   "source": [
    "###"
   ]
  },
  {
   "cell_type": "markdown",
   "metadata": {},
   "source": [
    "### 学習アルゴリズムの実装"
   ]
  },
  {
   "cell_type": "code",
   "execution_count": 56,
   "metadata": {
    "collapsed": true
   },
   "outputs": [],
   "source": [
    "# %load sample/ch04/two_layer_net.py\n",
    "#import sys, os\n",
    "#sys.path.append(os.pardir)  # 親ディレクトリのファイルをインポートするための設定\n",
    "from common.functions import *\n",
    "from common.gradient import numerical_gradient\n",
    "\n",
    "\n",
    "class TwoLayerNet:\n",
    "\n",
    "    def __init__(self, input_size, hidden_size, output_size, weight_init_std=0.01):\n",
    "        # 重みの初期化\n",
    "        self.params = {}\n",
    "        self.params['W1'] = weight_init_std * np.random.randn(input_size, hidden_size)\n",
    "        self.params['b1'] = np.zeros(hidden_size)\n",
    "        self.params['W2'] = weight_init_std * np.random.randn(hidden_size, output_size)\n",
    "        self.params['b2'] = np.zeros(output_size)\n",
    "\n",
    "    def predict(self, x):\n",
    "        W1, W2 = self.params['W1'], self.params['W2']\n",
    "        b1, b2 = self.params['b1'], self.params['b2']\n",
    "    \n",
    "        a1 = np.dot(x, W1) + b1\n",
    "        z1 = sigmoid(a1)\n",
    "        a2 = np.dot(z1, W2) + b2\n",
    "        y = softmax(a2)\n",
    "        \n",
    "        return y\n",
    "        \n",
    "    # x:入力データ, t:教師データ\n",
    "    def loss(self, x, t):\n",
    "        y = self.predict(x)\n",
    "        \n",
    "        return cross_entropy_error(y, t)\n",
    "    \n",
    "    def accuracy(self, x, t):\n",
    "        y = self.predict(x)\n",
    "        y = np.argmax(y, axis=1)\n",
    "        t = np.argmax(t, axis=1)\n",
    "        \n",
    "        accuracy = np.sum(y == t) / float(x.shape[0])\n",
    "        return accuracy\n",
    "        \n",
    "    # x:入力データ, t:教師データ\n",
    "    def numerical_gradient(self, x, t):\n",
    "        loss_W = lambda W: self.loss(x, t)\n",
    "        \n",
    "        grads = {}\n",
    "        grads['W1'] = numerical_gradient(loss_W, self.params['W1'])\n",
    "        grads['b1'] = numerical_gradient(loss_W, self.params['b1'])\n",
    "        grads['W2'] = numerical_gradient(loss_W, self.params['W2'])\n",
    "        grads['b2'] = numerical_gradient(loss_W, self.params['b2'])\n",
    "        \n",
    "        return grads\n",
    "\n",
    "    \"\"\"\n",
    "    def gradient(self, x, t):\n",
    "        W1, W2 = self.params['W1'], self.params['W2']\n",
    "        b1, b2 = self.params['b1'], self.params['b2']\n",
    "        grads = {}\n",
    "        \n",
    "        batch_num = x.shape[0]\n",
    "        \n",
    "        # forward\n",
    "        a1 = np.dot(x, W1) + b1\n",
    "        z1 = sigmoid(a1)\n",
    "        a2 = np.dot(z1, W2) + b2\n",
    "        y = softmax(a2)\n",
    "        \n",
    "        # backward\n",
    "        dy = (y - t) / batch_num\n",
    "        grads['W2'] = np.dot(z1.T, dy)\n",
    "        grads['b2'] = np.sum(dy, axis=0)\n",
    "        \n",
    "        da1 = np.dot(dy, W2.T)\n",
    "        dz1 = sigmoid_grad(a1) * da1\n",
    "        grads['W1'] = np.dot(x.T, dz1)\n",
    "        grads['b1'] = np.sum(dz1, axis=0)\n",
    "\n",
    "        return grads\n",
    "    \"\"\""
   ]
  },
  {
   "cell_type": "code",
   "execution_count": 57,
   "metadata": {},
   "outputs": [],
   "source": [
    "net = TwoLayerNet(input_size=784, hidden_size=100, output_size=10)"
   ]
  },
  {
   "cell_type": "code",
   "execution_count": 58,
   "metadata": {},
   "outputs": [
    {
     "data": {
      "text/plain": [
       "(784, 100)"
      ]
     },
     "execution_count": 58,
     "metadata": {},
     "output_type": "execute_result"
    }
   ],
   "source": [
    "net.params[\"W1\"].shape"
   ]
  },
  {
   "cell_type": "code",
   "execution_count": 59,
   "metadata": {},
   "outputs": [
    {
     "data": {
      "text/plain": [
       "(100,)"
      ]
     },
     "execution_count": 59,
     "metadata": {},
     "output_type": "execute_result"
    }
   ],
   "source": [
    "net.params[\"b1\"].shape"
   ]
  },
  {
   "cell_type": "code",
   "execution_count": 60,
   "metadata": {},
   "outputs": [
    {
     "data": {
      "text/plain": [
       "(100, 10)"
      ]
     },
     "execution_count": 60,
     "metadata": {},
     "output_type": "execute_result"
    }
   ],
   "source": [
    "net.params[\"W2\"].shape"
   ]
  },
  {
   "cell_type": "code",
   "execution_count": 61,
   "metadata": {},
   "outputs": [
    {
     "data": {
      "text/plain": [
       "(10,)"
      ]
     },
     "execution_count": 61,
     "metadata": {},
     "output_type": "execute_result"
    }
   ],
   "source": [
    "net.params[\"b2\"].shape"
   ]
  },
  {
   "cell_type": "code",
   "execution_count": 62,
   "metadata": {},
   "outputs": [
    {
     "data": {
      "text/plain": [
       "array([[ 0.09913465,  0.10806256,  0.09959586,  0.09156199,  0.10576771,\n",
       "         0.0969572 ,  0.10331592,  0.09698935,  0.09652027,  0.1020945 ],\n",
       "       [ 0.09922041,  0.1079727 ,  0.09958308,  0.09160656,  0.10554158,\n",
       "         0.09696936,  0.10337112,  0.09685594,  0.09632667,  0.10255257],\n",
       "       [ 0.09877408,  0.10765975,  0.09948051,  0.09171135,  0.10555477,\n",
       "         0.09710339,  0.10326112,  0.09718798,  0.09657421,  0.10269284],\n",
       "       [ 0.09932961,  0.10779716,  0.09947937,  0.09176911,  0.1052695 ,\n",
       "         0.09702155,  0.10346059,  0.09709135,  0.09627386,  0.10250791],\n",
       "       [ 0.09883553,  0.10770427,  0.09957123,  0.09188395,  0.10571681,\n",
       "         0.09713726,  0.10352531,  0.0968111 ,  0.09635305,  0.1024615 ],\n",
       "       [ 0.0993429 ,  0.10767164,  0.09979211,  0.0916089 ,  0.10586473,\n",
       "         0.09697691,  0.10327368,  0.09678148,  0.09625634,  0.1024313 ],\n",
       "       [ 0.09887199,  0.10786625,  0.09985797,  0.09183151,  0.10561864,\n",
       "         0.09708529,  0.1032981 ,  0.09711956,  0.09612115,  0.10232955],\n",
       "       [ 0.09895587,  0.10808557,  0.09966051,  0.09201504,  0.10569859,\n",
       "         0.0968744 ,  0.10318239,  0.09712881,  0.09600306,  0.10239576],\n",
       "       [ 0.09899092,  0.10798628,  0.09952262,  0.0916971 ,  0.10557031,\n",
       "         0.09707847,  0.10340064,  0.09687401,  0.09666951,  0.10221014],\n",
       "       [ 0.09923298,  0.10767692,  0.09916606,  0.09149331,  0.1057143 ,\n",
       "         0.09697957,  0.1034925 ,  0.09717761,  0.09641581,  0.10265093],\n",
       "       [ 0.098955  ,  0.10806315,  0.09961229,  0.09187734,  0.10568383,\n",
       "         0.09706029,  0.10323454,  0.09678869,  0.09604722,  0.10267766],\n",
       "       [ 0.09958169,  0.10811257,  0.09944537,  0.09173498,  0.10561814,\n",
       "         0.09682857,  0.1027886 ,  0.09685391,  0.09644927,  0.10258689],\n",
       "       [ 0.09899287,  0.10773811,  0.09959926,  0.09180531,  0.1057285 ,\n",
       "         0.09702501,  0.10331611,  0.09698116,  0.09616161,  0.10265206],\n",
       "       [ 0.09907514,  0.10790039,  0.09959078,  0.09161817,  0.10581482,\n",
       "         0.09691604,  0.10372565,  0.09704206,  0.09595801,  0.10235894],\n",
       "       [ 0.09916336,  0.10791848,  0.09974001,  0.09162429,  0.10568247,\n",
       "         0.09721722,  0.10328741,  0.09699363,  0.09597861,  0.10239452],\n",
       "       [ 0.09952071,  0.10763988,  0.0994694 ,  0.09154936,  0.10590887,\n",
       "         0.09695548,  0.10344839,  0.09682673,  0.09638396,  0.10229724],\n",
       "       [ 0.09902453,  0.10792652,  0.09931814,  0.09179187,  0.10541743,\n",
       "         0.09682713,  0.10360357,  0.09716088,  0.09632876,  0.10260118],\n",
       "       [ 0.09889284,  0.1076639 ,  0.09944927,  0.09159981,  0.10578413,\n",
       "         0.09717208,  0.1033719 ,  0.09702627,  0.09664359,  0.1023962 ],\n",
       "       [ 0.09952468,  0.10806159,  0.09942627,  0.09158824,  0.10620084,\n",
       "         0.09665456,  0.10327456,  0.09667734,  0.09637803,  0.10221389],\n",
       "       [ 0.09911049,  0.1081917 ,  0.0996455 ,  0.09173166,  0.10593945,\n",
       "         0.09670521,  0.10330273,  0.09660335,  0.0964061 ,  0.10236381],\n",
       "       [ 0.09904494,  0.10761813,  0.09960431,  0.09148119,  0.10574066,\n",
       "         0.09721776,  0.10356311,  0.09659956,  0.09635383,  0.10277653],\n",
       "       [ 0.09911513,  0.10815967,  0.09974148,  0.09171437,  0.10576375,\n",
       "         0.09688945,  0.1032076 ,  0.09701346,  0.09604448,  0.10235061],\n",
       "       [ 0.09884442,  0.10766583,  0.09922463,  0.09151757,  0.10565477,\n",
       "         0.09723812,  0.1034803 ,  0.09729791,  0.09646514,  0.10261131],\n",
       "       [ 0.09915038,  0.10759827,  0.09944944,  0.09171826,  0.10593498,\n",
       "         0.09707325,  0.10354744,  0.09689042,  0.09619567,  0.10244188],\n",
       "       [ 0.0993251 ,  0.10762218,  0.09950696,  0.09157738,  0.10574543,\n",
       "         0.0970525 ,  0.10322173,  0.09679484,  0.09649081,  0.10266307],\n",
       "       [ 0.09914748,  0.10796326,  0.09962616,  0.09180404,  0.10594401,\n",
       "         0.09693031,  0.10314101,  0.09684466,  0.09616313,  0.10243595],\n",
       "       [ 0.09887667,  0.10792465,  0.09957071,  0.09183251,  0.10564644,\n",
       "         0.09691653,  0.10345273,  0.09691689,  0.09611108,  0.10275179],\n",
       "       [ 0.09883254,  0.1081814 ,  0.09953918,  0.09159029,  0.10537813,\n",
       "         0.09698641,  0.10355705,  0.09697578,  0.09633091,  0.10262832],\n",
       "       [ 0.09916689,  0.10809617,  0.0995361 ,  0.09161421,  0.106048  ,\n",
       "         0.09691026,  0.1035683 ,  0.09687057,  0.09601898,  0.10217051],\n",
       "       [ 0.09877237,  0.10761286,  0.09974186,  0.09192373,  0.10543676,\n",
       "         0.09748875,  0.1035086 ,  0.09705606,  0.09615347,  0.10230555],\n",
       "       [ 0.09882467,  0.10765315,  0.09931733,  0.09189668,  0.1056279 ,\n",
       "         0.09690581,  0.10352478,  0.09690257,  0.09642212,  0.10292498],\n",
       "       [ 0.09897334,  0.10775372,  0.09937024,  0.09168201,  0.10558336,\n",
       "         0.09706968,  0.10343217,  0.09687291,  0.09656058,  0.10270199],\n",
       "       [ 0.09894382,  0.10817038,  0.09959091,  0.09155842,  0.10553447,\n",
       "         0.09718859,  0.10340757,  0.09706977,  0.09648361,  0.10205245],\n",
       "       [ 0.09926479,  0.10795451,  0.09949305,  0.09175613,  0.10564858,\n",
       "         0.09680287,  0.10336778,  0.09683312,  0.09650262,  0.10237654],\n",
       "       [ 0.09933505,  0.10786578,  0.09971655,  0.09145082,  0.10569579,\n",
       "         0.0968941 ,  0.10320438,  0.09710475,  0.09657548,  0.1021573 ],\n",
       "       [ 0.09890693,  0.1077982 ,  0.09941182,  0.09205187,  0.10570242,\n",
       "         0.09682941,  0.10342886,  0.09710822,  0.09625346,  0.10250881],\n",
       "       [ 0.09917184,  0.10752484,  0.09953383,  0.09181547,  0.10563   ,\n",
       "         0.09720009,  0.10334213,  0.09700088,  0.09636715,  0.10241378],\n",
       "       [ 0.0991029 ,  0.10762617,  0.09947376,  0.09193725,  0.10590312,\n",
       "         0.09696747,  0.10325065,  0.09691959,  0.09624108,  0.10257801],\n",
       "       [ 0.09888452,  0.10745423,  0.10002083,  0.09203027,  0.1055932 ,\n",
       "         0.09716263,  0.10322551,  0.09680123,  0.09626253,  0.10256505],\n",
       "       [ 0.09922775,  0.10785613,  0.09942477,  0.09167396,  0.10573118,\n",
       "         0.09678914,  0.10325302,  0.09708559,  0.09640011,  0.10255835],\n",
       "       [ 0.09932747,  0.107991  ,  0.09919311,  0.09171786,  0.10585083,\n",
       "         0.09656787,  0.10327723,  0.0972911 ,  0.09619217,  0.10259135],\n",
       "       [ 0.09941736,  0.10790255,  0.09980838,  0.09166203,  0.10580159,\n",
       "         0.09707362,  0.10309372,  0.09665948,  0.09623104,  0.10235022],\n",
       "       [ 0.09910246,  0.10768604,  0.0995436 ,  0.09179443,  0.10565228,\n",
       "         0.09707057,  0.10317061,  0.09699169,  0.09632725,  0.10266107],\n",
       "       [ 0.09919227,  0.10784484,  0.09983941,  0.09167634,  0.10548474,\n",
       "         0.09708673,  0.10332336,  0.09710859,  0.09619177,  0.10225196],\n",
       "       [ 0.09922769,  0.10799562,  0.09958145,  0.0915294 ,  0.10566608,\n",
       "         0.09702346,  0.10325616,  0.09697886,  0.09625162,  0.10248968],\n",
       "       [ 0.09922057,  0.10801335,  0.09943441,  0.09146895,  0.10591428,\n",
       "         0.09706103,  0.10310673,  0.09711239,  0.09621093,  0.10245736],\n",
       "       [ 0.09922812,  0.10758556,  0.09964381,  0.09163683,  0.10527899,\n",
       "         0.09727264,  0.103396  ,  0.09692346,  0.09617409,  0.1028605 ],\n",
       "       [ 0.09907458,  0.10779788,  0.09954764,  0.09179147,  0.10557856,\n",
       "         0.09687202,  0.103501  ,  0.09730974,  0.09617438,  0.10235272],\n",
       "       [ 0.09916183,  0.10786182,  0.09965818,  0.09212208,  0.10565093,\n",
       "         0.09730043,  0.10310605,  0.09692082,  0.09574417,  0.10247369],\n",
       "       [ 0.0987667 ,  0.10751854,  0.09947297,  0.0918352 ,  0.10596798,\n",
       "         0.09724221,  0.103516  ,  0.09699041,  0.09607525,  0.10261475],\n",
       "       [ 0.09956422,  0.10780333,  0.09948827,  0.09180535,  0.10572355,\n",
       "         0.09708201,  0.10298991,  0.09671872,  0.09636747,  0.10245717],\n",
       "       [ 0.09942224,  0.10811262,  0.09954027,  0.09160762,  0.10557942,\n",
       "         0.09682702,  0.10328746,  0.09692416,  0.096391  ,  0.1023082 ],\n",
       "       [ 0.09946139,  0.10772673,  0.09951449,  0.09168668,  0.10583936,\n",
       "         0.09704802,  0.10314119,  0.09702138,  0.09643257,  0.1021282 ],\n",
       "       [ 0.09928008,  0.10814016,  0.09963585,  0.09165777,  0.10559898,\n",
       "         0.09710343,  0.10306543,  0.09700617,  0.09619785,  0.10231428],\n",
       "       [ 0.09911458,  0.10780256,  0.09939119,  0.09151275,  0.10581059,\n",
       "         0.0970258 ,  0.10335346,  0.09694514,  0.09633641,  0.10270752],\n",
       "       [ 0.09891671,  0.10791081,  0.09954542,  0.09188499,  0.10575442,\n",
       "         0.09720439,  0.10319062,  0.09693345,  0.09617685,  0.10248232],\n",
       "       [ 0.09919366,  0.10784338,  0.09959518,  0.091705  ,  0.10555655,\n",
       "         0.09687213,  0.10309046,  0.09705416,  0.0965715 ,  0.10251799],\n",
       "       [ 0.09901532,  0.1080263 ,  0.09944731,  0.09114805,  0.10575072,\n",
       "         0.09674433,  0.10350616,  0.09689076,  0.09652135,  0.10294968],\n",
       "       [ 0.09915423,  0.1079425 ,  0.09962163,  0.09201845,  0.10535334,\n",
       "         0.09696753,  0.10337175,  0.09694726,  0.09620082,  0.10242249],\n",
       "       [ 0.09893737,  0.10760306,  0.09951255,  0.09160175,  0.10538692,\n",
       "         0.09701699,  0.10358963,  0.09740399,  0.0964294 ,  0.10251835],\n",
       "       [ 0.09899118,  0.10807619,  0.09958957,  0.09147754,  0.10554694,\n",
       "         0.09727524,  0.10322629,  0.09712877,  0.09627149,  0.1024168 ],\n",
       "       [ 0.09929779,  0.1077507 ,  0.09939301,  0.09163982,  0.10570306,\n",
       "         0.09681717,  0.10330547,  0.09706869,  0.09655315,  0.10247113],\n",
       "       [ 0.09917771,  0.10768962,  0.09977619,  0.0919748 ,  0.10576392,\n",
       "         0.09714706,  0.10289448,  0.09668834,  0.09628766,  0.10260023],\n",
       "       [ 0.09900058,  0.10796769,  0.09959687,  0.09159562,  0.10550986,\n",
       "         0.09739714,  0.10308264,  0.09694547,  0.0963735 ,  0.10253064],\n",
       "       [ 0.09933681,  0.10797941,  0.09936712,  0.09192913,  0.10592548,\n",
       "         0.09723355,  0.10287941,  0.09697947,  0.09631625,  0.10205338],\n",
       "       [ 0.09902225,  0.1080352 ,  0.09970685,  0.09191991,  0.1057612 ,\n",
       "         0.09715355,  0.10284036,  0.09710155,  0.09618862,  0.10227052],\n",
       "       [ 0.09914111,  0.10772641,  0.09966075,  0.09216178,  0.10592213,\n",
       "         0.0971643 ,  0.10329481,  0.09688045,  0.09594805,  0.1021002 ],\n",
       "       [ 0.09918528,  0.10810237,  0.09957572,  0.09157419,  0.10534481,\n",
       "         0.09699014,  0.10339335,  0.09711812,  0.09627556,  0.10244046],\n",
       "       [ 0.09899411,  0.10779784,  0.09928268,  0.09164964,  0.10558954,\n",
       "         0.09715883,  0.1032746 ,  0.0972067 ,  0.09662865,  0.10241742],\n",
       "       [ 0.09886427,  0.10795632,  0.09956386,  0.09179193,  0.10560353,\n",
       "         0.09720803,  0.10352657,  0.09693373,  0.09636419,  0.10218756],\n",
       "       [ 0.09904497,  0.10797452,  0.09923338,  0.09148962,  0.10589345,\n",
       "         0.09712274,  0.1032444 ,  0.09722573,  0.09648628,  0.10228493],\n",
       "       [ 0.09897263,  0.10798679,  0.09918176,  0.09190108,  0.10559848,\n",
       "         0.09680809,  0.10339022,  0.0970025 ,  0.09645589,  0.10270256],\n",
       "       [ 0.09896653,  0.10777595,  0.09951522,  0.09205999,  0.10568188,\n",
       "         0.09708976,  0.10323701,  0.0970162 ,  0.09599276,  0.10266469],\n",
       "       [ 0.09907043,  0.10770943,  0.09947022,  0.09181702,  0.10575028,\n",
       "         0.09705378,  0.10323604,  0.09715469,  0.09611586,  0.10262225],\n",
       "       [ 0.09916811,  0.10763444,  0.0998474 ,  0.09148831,  0.10564397,\n",
       "         0.09723785,  0.10343942,  0.09671269,  0.09672723,  0.10210057],\n",
       "       [ 0.09925298,  0.10794186,  0.0996017 ,  0.0917967 ,  0.10579221,\n",
       "         0.09681038,  0.10306884,  0.09690049,  0.09620983,  0.10262501],\n",
       "       [ 0.09934834,  0.10786151,  0.09956298,  0.09148136,  0.10551349,\n",
       "         0.09714811,  0.10320023,  0.09708039,  0.09635583,  0.10244776],\n",
       "       [ 0.09932317,  0.107513  ,  0.09962224,  0.09193274,  0.10567694,\n",
       "         0.0971435 ,  0.1032863 ,  0.09694937,  0.09613775,  0.10241497],\n",
       "       [ 0.09898397,  0.10811658,  0.09970534,  0.09172406,  0.10537335,\n",
       "         0.09707748,  0.10334256,  0.09714246,  0.09626877,  0.10226543],\n",
       "       [ 0.09912578,  0.10745332,  0.09939616,  0.09188606,  0.10571714,\n",
       "         0.09711009,  0.10312147,  0.09718717,  0.09628991,  0.10271292],\n",
       "       [ 0.09898222,  0.10762193,  0.09923226,  0.09184662,  0.10602831,\n",
       "         0.09704394,  0.10318305,  0.09717833,  0.0963183 ,  0.10256505],\n",
       "       [ 0.09915881,  0.10775459,  0.09945104,  0.09164859,  0.10570465,\n",
       "         0.09702756,  0.10339012,  0.09699545,  0.09628095,  0.10258825],\n",
       "       [ 0.0990471 ,  0.10812788,  0.09942121,  0.09188422,  0.10562964,\n",
       "         0.09682439,  0.10302036,  0.09689526,  0.09649834,  0.10265161],\n",
       "       [ 0.09914019,  0.10764895,  0.09960212,  0.09152999,  0.10600397,\n",
       "         0.0967876 ,  0.10322257,  0.09687561,  0.0964237 ,  0.1027653 ],\n",
       "       [ 0.09908833,  0.10772333,  0.09942723,  0.09153505,  0.10576952,\n",
       "         0.09689864,  0.10354989,  0.09692718,  0.0967158 ,  0.10236503],\n",
       "       [ 0.09918456,  0.10770592,  0.09938205,  0.09173387,  0.10563187,\n",
       "         0.09707956,  0.10331005,  0.09698922,  0.09641459,  0.10256831],\n",
       "       [ 0.09923821,  0.10805482,  0.09960885,  0.09195435,  0.10595936,\n",
       "         0.09676335,  0.10318085,  0.09683474,  0.09611851,  0.10228697],\n",
       "       [ 0.0992086 ,  0.10822603,  0.09966315,  0.09172495,  0.1056264 ,\n",
       "         0.09702554,  0.10314882,  0.09685564,  0.09647186,  0.10204901],\n",
       "       [ 0.09894271,  0.10793907,  0.09958471,  0.09154006,  0.1058449 ,\n",
       "         0.09705541,  0.10331846,  0.09693297,  0.09625813,  0.10258359],\n",
       "       [ 0.09919691,  0.10773252,  0.09944528,  0.09164026,  0.10546942,\n",
       "         0.09697374,  0.10336974,  0.0971163 ,  0.09637512,  0.1026807 ],\n",
       "       [ 0.09923673,  0.10790789,  0.09951609,  0.09200326,  0.1057387 ,\n",
       "         0.09677975,  0.10330429,  0.09682627,  0.09627325,  0.10241377],\n",
       "       [ 0.09932189,  0.10790973,  0.0995527 ,  0.09151328,  0.10533119,\n",
       "         0.09729294,  0.10312518,  0.09703008,  0.09669966,  0.10222335],\n",
       "       [ 0.09911484,  0.10809091,  0.09937625,  0.09166442,  0.10590969,\n",
       "         0.0970688 ,  0.10296697,  0.09683078,  0.09652859,  0.10244876],\n",
       "       [ 0.09919075,  0.10808074,  0.09968899,  0.09186264,  0.10564116,\n",
       "         0.09718272,  0.1032495 ,  0.0965828 ,  0.09640202,  0.10211868],\n",
       "       [ 0.0992789 ,  0.10801168,  0.09919069,  0.09166889,  0.10591092,\n",
       "         0.09686951,  0.10318784,  0.09707241,  0.09632656,  0.1024826 ],\n",
       "       [ 0.0992218 ,  0.10757476,  0.09965414,  0.09151785,  0.10551025,\n",
       "         0.09724137,  0.10334014,  0.09711898,  0.0963312 ,  0.10248951],\n",
       "       [ 0.09883097,  0.10778701,  0.09958868,  0.09151928,  0.10571269,\n",
       "         0.0971871 ,  0.10363545,  0.09694471,  0.09614035,  0.10265377],\n",
       "       [ 0.09952703,  0.1077207 ,  0.09958062,  0.09177405,  0.10559485,\n",
       "         0.09710095,  0.10328301,  0.09664353,  0.09662764,  0.10214763],\n",
       "       [ 0.09937827,  0.10791487,  0.09976301,  0.09183966,  0.10550615,\n",
       "         0.09722596,  0.10320234,  0.09661069,  0.0962173 ,  0.10234174],\n",
       "       [ 0.09924041,  0.10811117,  0.09976354,  0.09196083,  0.10549993,\n",
       "         0.09702923,  0.10290051,  0.09722494,  0.09590844,  0.10236101]])"
      ]
     },
     "execution_count": 62,
     "metadata": {},
     "output_type": "execute_result"
    }
   ],
   "source": [
    "x = np.random.rand(100, 784)\n",
    "y = net.predict(x)\n",
    "y"
   ]
  },
  {
   "cell_type": "code",
   "execution_count": 63,
   "metadata": {
    "collapsed": true
   },
   "outputs": [],
   "source": [
    "t = np.random.rand(100, 10)\n",
    "grads = net.numerical_gradient(x, t)"
   ]
  },
  {
   "cell_type": "code",
   "execution_count": 64,
   "metadata": {
    "scrolled": true
   },
   "outputs": [
    {
     "data": {
      "text/plain": [
       "(784, 100)"
      ]
     },
     "execution_count": 64,
     "metadata": {},
     "output_type": "execute_result"
    }
   ],
   "source": [
    "grads[\"W1\"].shape"
   ]
  },
  {
   "cell_type": "code",
   "execution_count": 65,
   "metadata": {},
   "outputs": [
    {
     "data": {
      "text/plain": [
       "(100,)"
      ]
     },
     "execution_count": 65,
     "metadata": {},
     "output_type": "execute_result"
    }
   ],
   "source": [
    "grads[\"b1\"].shape"
   ]
  },
  {
   "cell_type": "code",
   "execution_count": 66,
   "metadata": {},
   "outputs": [
    {
     "data": {
      "text/plain": [
       "(100, 10)"
      ]
     },
     "execution_count": 66,
     "metadata": {},
     "output_type": "execute_result"
    }
   ],
   "source": [
    "grads[\"W2\"].shape"
   ]
  },
  {
   "cell_type": "code",
   "execution_count": 67,
   "metadata": {},
   "outputs": [
    {
     "data": {
      "text/plain": [
       "(10,)"
      ]
     },
     "execution_count": 67,
     "metadata": {},
     "output_type": "execute_result"
    }
   ],
   "source": [
    "grads[\"b2\"].shape"
   ]
  },
  {
   "cell_type": "markdown",
   "metadata": {},
   "source": [
    "* ミニバッチ学習の実装"
   ]
  },
  {
   "cell_type": "code",
   "execution_count": 68,
   "metadata": {},
   "outputs": [],
   "source": [
    "# %load sample/ch04/train_neuralnet.py\n",
    "#import sys, os\n",
    "#sys.path.append(os.pardir)  # 親ディレクトリのファイルをインポートするための設定\n",
    "import numpy as np\n",
    "import matplotlib.pyplot as plt\n",
    "from dataset.mnist import load_mnist\n",
    "#from two_layer_net import TwoLayerNet\n",
    "from sample.ch04.two_layer_net import TwoLayerNet\n",
    "\n",
    "# データの読み込み\n",
    "(x_train, t_train), (x_test, t_test) = load_mnist(normalize=True, one_hot_label=True)\n",
    "\n",
    "network = TwoLayerNet(input_size=784, hidden_size=50, output_size=10)\n",
    "\n",
    "iters_num = 10000  # 繰り返しの回数を適宜設定する\n",
    "train_size = x_train.shape[0]\n",
    "batch_size = 100\n",
    "learning_rate = 0.1\n",
    "\n",
    "train_loss_list = []\n",
    "#train_acc_list = []\n",
    "#test_acc_list = []\n",
    "\n",
    "#iter_per_epoch = max(train_size / batch_size, 1)\n",
    "\n",
    "for i in range(iters_num):\n",
    "    batch_mask = np.random.choice(train_size, batch_size)\n",
    "    x_batch = x_train[batch_mask]\n",
    "    t_batch = t_train[batch_mask]\n",
    "    \n",
    "    # 勾配の計算\n",
    "    #grad = network.numerical_gradient(x_batch, t_batch)\n",
    "    grad = network.gradient(x_batch, t_batch)\n",
    "    \n",
    "    # パラメータの更新\n",
    "    for key in ('W1', 'b1', 'W2', 'b2'):\n",
    "        network.params[key] -= learning_rate * grad[key]\n",
    "    \n",
    "    loss = network.loss(x_batch, t_batch)\n",
    "    train_loss_list.append(loss)\n",
    "\n",
    "    \"\"\"\n",
    "    if i % iter_per_epoch == 0:\n",
    "        train_acc = network.accuracy(x_train, t_train)\n",
    "        test_acc = network.accuracy(x_test, t_test)\n",
    "        train_acc_list.append(train_acc)\n",
    "        test_acc_list.append(test_acc)\n",
    "        print(\"train acc, test acc | \" + str(train_acc) + \", \" + str(test_acc))\n",
    "\n",
    "# グラフの描画\n",
    "markers = {'train': 'o', 'test': 's'}\n",
    "x = np.arange(len(train_acc_list))\n",
    "plt.plot(x, train_acc_list, label='train acc')\n",
    "plt.plot(x, test_acc_list, label='test acc', linestyle='--')\n",
    "plt.xlabel(\"epochs\")\n",
    "plt.ylabel(\"accuracy\")\n",
    "plt.ylim(0, 1.0)\n",
    "plt.legend(loc='lower right')\n",
    "plt.show()\n",
    "    \"\"\""
   ]
  },
  {
   "cell_type": "code",
   "execution_count": 69,
   "metadata": {},
   "outputs": [
    {
     "data": {
      "image/png": "[encoded data removed]",
      "text/plain": [
       "<matplotlib.figure.Figure at 0x1d30a19c748>"
      ]
     },
     "metadata": {},
     "output_type": "display_data"
    }
   ],
   "source": [
    "plt.plot(range(iters_num), train_loss_list)\n",
    "plt.xlabel(\"iteration\")\n",
    "plt.ylabel(\"loss\")\n",
    "plt.xlim(0, iters_num)\n",
    "plt.ylim(0, np.max(train_loss_list))\n",
    "plt.show()"
   ]
  },
  {
   "cell_type": "code",
   "execution_count": 70,
   "metadata": {},
   "outputs": [
    {
     "data": {
      "image/png": "[encoded data removed]",
      "text/plain": [
       "<matplotlib.figure.Figure at 0x1d30a1b9c88>"
      ]
     },
     "metadata": {},
     "output_type": "display_data"
    }
   ],
   "source": [
    "# 拡大\n",
    "plt.plot(range(1000), train_loss_list[:1000])\n",
    "plt.xlabel(\"iteration\")\n",
    "plt.ylabel(\"loss\")\n",
    "plt.xlim(0, 1000)\n",
    "plt.ylim(0, np.max(train_loss_list))\n",
    "plt.show()"
   ]
  },
  {
   "cell_type": "markdown",
   "metadata": {},
   "source": [
    "* テストデータで評価"
   ]
  },
  {
   "cell_type": "code",
   "execution_count": 71,
   "metadata": {},
   "outputs": [
    {
     "name": "stdout",
     "output_type": "stream",
     "text": [
      "train acc, test acc | 0.09035, 0.0892\n",
      "train acc, test acc | 0.79315, 0.7972\n",
      "train acc, test acc | 0.8768, 0.8817\n",
      "train acc, test acc | 0.898316666667, 0.9009\n",
      "train acc, test acc | 0.908033333333, 0.9099\n",
      "train acc, test acc | 0.914633333333, 0.9159\n",
      "train acc, test acc | 0.9197, 0.9208\n",
      "train acc, test acc | 0.923683333333, 0.9259\n",
      "train acc, test acc | 0.927616666667, 0.9281\n",
      "train acc, test acc | 0.930983333333, 0.9303\n",
      "train acc, test acc | 0.933733333333, 0.9349\n",
      "train acc, test acc | 0.9374, 0.9373\n",
      "train acc, test acc | 0.939316666667, 0.9394\n",
      "train acc, test acc | 0.9417, 0.9408\n",
      "train acc, test acc | 0.94315, 0.9422\n",
      "train acc, test acc | 0.945333333333, 0.9441\n",
      "train acc, test acc | 0.9474, 0.9461\n"
     ]
    },
    {
     "data": {
      "image/png": "[encoded data removed]",
      "text/plain": [
       "<matplotlib.figure.Figure at 0x1d30a1b9748>"
      ]
     },
     "metadata": {},
     "output_type": "display_data"
    }
   ],
   "source": [
    "# %load sample/ch04/train_neuralnet.py\n",
    "#import sys, os\n",
    "#sys.path.append(os.pardir)  # 親ディレクトリのファイルをインポートするための設定\n",
    "import numpy as np\n",
    "import matplotlib.pyplot as plt\n",
    "from dataset.mnist import load_mnist\n",
    "#from two_layer_net import TwoLayerNet\n",
    "from sample.ch04.two_layer_net import TwoLayerNet\n",
    "\n",
    "# データの読み込み\n",
    "(x_train, t_train), (x_test, t_test) = load_mnist(normalize=True, one_hot_label=True)\n",
    "\n",
    "network = TwoLayerNet(input_size=784, hidden_size=50, output_size=10)\n",
    "\n",
    "iters_num = 10000  # 繰り返しの回数を適宜設定する\n",
    "train_size = x_train.shape[0]\n",
    "batch_size = 100\n",
    "learning_rate = 0.1\n",
    "\n",
    "train_loss_list = []\n",
    "train_acc_list = []\n",
    "test_acc_list = []\n",
    "\n",
    "iter_per_epoch = max(train_size / batch_size, 1)\n",
    "\n",
    "for i in range(iters_num):\n",
    "    batch_mask = np.random.choice(train_size, batch_size)\n",
    "    x_batch = x_train[batch_mask]\n",
    "    t_batch = t_train[batch_mask]\n",
    "    \n",
    "    # 勾配の計算\n",
    "    #grad = network.numerical_gradient(x_batch, t_batch)\n",
    "    grad = network.gradient(x_batch, t_batch)\n",
    "    \n",
    "    # パラメータの更新\n",
    "    for key in ('W1', 'b1', 'W2', 'b2'):\n",
    "        network.params[key] -= learning_rate * grad[key]\n",
    "    \n",
    "    loss = network.loss(x_batch, t_batch)\n",
    "    train_loss_list.append(loss)\n",
    "    \n",
    "    if i % iter_per_epoch == 0:\n",
    "        train_acc = network.accuracy(x_train, t_train)\n",
    "        test_acc = network.accuracy(x_test, t_test)\n",
    "        train_acc_list.append(train_acc)\n",
    "        test_acc_list.append(test_acc)\n",
    "        print(\"train acc, test acc | \" + str(train_acc) + \", \" + str(test_acc))\n",
    "\n",
    "# グラフの描画\n",
    "markers = {'train': 'o', 'test': 's'}\n",
    "x = np.arange(len(train_acc_list))\n",
    "plt.plot(x, train_acc_list, label='train acc')\n",
    "plt.plot(x, test_acc_list, label='test acc', linestyle='--')\n",
    "plt.xlabel(\"epochs\")\n",
    "plt.ylabel(\"accuracy\")\n",
    "plt.ylim(0, 1.0)\n",
    "plt.legend(loc='lower right')\n",
    "plt.show()"
   ]
  }
 ],
 "metadata": {
  "kernelspec": {
   "display_name": "Python 3",
   "language": "python",
   "name": "python3"
  },
  "language_info": {
   "codemirror_mode": {
    "name": "ipython",
    "version": 3
   },
   "file_extension": ".py",
   "mimetype": "text/x-python",
   "name": "python",
   "nbconvert_exporter": "python",
   "pygments_lexer": "ipython3",
   "version": "3.6.2"
  }
 },
 "nbformat": 4,
 "nbformat_minor": 2
}
